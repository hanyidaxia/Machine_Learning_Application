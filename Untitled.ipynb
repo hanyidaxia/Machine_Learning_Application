{
 "cells": [
  {
   "cell_type": "code",
   "execution_count": null,
   "metadata": {},
   "outputs": [],
   "source": [
    "# -*- coding: utf-8 -*-\n",
    "\"\"\"\n",
    "Created on Thu May 17 15:45:10 2018\n",
    "\n",
    "@author: wangshuang\n",
    "\"\"\"\n",
    "\n",
    "\n",
    "'''''''''''''''''''''''''''''''''''''''''''''''''''''''''''''''''''''''\n",
    "\n",
    "''''''''''''''''''        一、加载包             '''''''''''''''''''''''\n",
    "\n",
    "''''''''''''''''''''''''''''''''''''''''''''''''''''''''''''''''''''''''\n",
    "\n",
    "import numpy as np\n",
    "import pandas as pd\n",
    "import lightgbm as lgb\n",
    "from sklearn.cross_validation import train_test_split\n",
    "from scipy.stats import mode\n",
    "import sys\n",
    "'''根据实际情况调整路径，防止perform模块无法读取'''\n",
    "sys.path.append('C:\\\\Users\\\\wangshuang\\\\Documents\\\\Python Scripts') \n",
    "import perform as pf #载入自定义函数\n",
    "from sklearn.metrics import roc_curve,auc\n",
    "import matplotlib.pyplot as plt\n",
    "\n",
    "from lightgbm.sklearn import LGBMRegressor\n",
    "from sklearn.grid_search import GridSearchCV\n",
    "\n",
    "import datetime\n",
    "\n",
    "\n",
    "#%%"
   ]
  }
 ],
 "metadata": {
  "kernelspec": {
   "display_name": "Python 3",
   "language": "python",
   "name": "python3"
  },
  "language_info": {
   "codemirror_mode": {
    "name": "ipython",
    "version": 3
   },
   "file_extension": ".py",
   "mimetype": "text/x-python",
   "name": "python",
   "nbconvert_exporter": "python",
   "pygments_lexer": "ipython3",
   "version": "3.6.4"
  }
 },
 "nbformat": 4,
 "nbformat_minor": 2
}
